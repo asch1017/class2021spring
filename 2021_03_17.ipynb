{
  "nbformat": 4,
  "nbformat_minor": 0,
  "metadata": {
    "colab": {
      "name": "2021.03.17",
      "provenance": [],
      "authorship_tag": "ABX9TyOmVRYFbhsu0apLSYusGSkK",
      "include_colab_link": true
    },
    "kernelspec": {
      "name": "python3",
      "display_name": "Python 3"
    }
  },
  "cells": [
    {
      "cell_type": "markdown",
      "metadata": {
        "id": "view-in-github",
        "colab_type": "text"
      },
      "source": [
        "<a href=\"https://colab.research.google.com/github/asch1017/class2021spring/blob/main/2021_03_17.ipynb\" target=\"_parent\"><img src=\"https://colab.research.google.com/assets/colab-badge.svg\" alt=\"Open In Colab\"/></a>"
      ]
    },
    {
      "cell_type": "code",
      "metadata": {
        "colab": {
          "base_uri": "https://localhost:8080/"
        },
        "id": "jHA79Yc7ueji",
        "outputId": "e1fb2c4f-20be-4a94-f6a4-0cd9fc452f30"
      },
      "source": [
        "for a in range(0,3):\r\n",
        "  for b in range(1,4):\r\n",
        "    if b >= 2:\r\n",
        "      print(a-b)\r\n"
      ],
      "execution_count": 2,
      "outputs": [
        {
          "output_type": "stream",
          "text": [
            "-2\n",
            "-3\n",
            "-1\n",
            "-2\n",
            "0\n",
            "-1\n"
          ],
          "name": "stdout"
        }
      ]
    },
    {
      "cell_type": "code",
      "metadata": {
        "colab": {
          "base_uri": "https://localhost:8080/"
        },
        "id": "ZA9-y68ovIez",
        "outputId": "30f516a3-77ec-4f4e-f92b-3225223aa9f9"
      },
      "source": [
        "a = [100, 200, 300, 400]\r\n",
        "b = [i for i in a if i>100]\r\n",
        "b"
      ],
      "execution_count": 9,
      "outputs": [
        {
          "output_type": "execute_result",
          "data": {
            "text/plain": [
              "[200, 300, 400]"
            ]
          },
          "metadata": {
            "tags": []
          },
          "execution_count": 9
        }
      ]
    },
    {
      "cell_type": "code",
      "metadata": {
        "id": "Khv471UevNTL"
      },
      "source": [
        ""
      ],
      "execution_count": null,
      "outputs": []
    }
  ]
}