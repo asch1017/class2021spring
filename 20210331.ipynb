{
  "nbformat": 4,
  "nbformat_minor": 0,
  "metadata": {
    "colab": {
      "name": "20210331.ipynb",
      "provenance": [],
      "authorship_tag": "ABX9TyNNLMYsO2P+c2CknBpw7rst",
      "include_colab_link": true
    },
    "kernelspec": {
      "name": "python3",
      "display_name": "Python 3"
    },
    "language_info": {
      "name": "python"
    }
  },
  "cells": [
    {
      "cell_type": "markdown",
      "metadata": {
        "id": "view-in-github",
        "colab_type": "text"
      },
      "source": [
        "<a href=\"https://colab.research.google.com/github/asch1017/class2021spring/blob/main/20210331.ipynb\" target=\"_parent\"><img src=\"https://colab.research.google.com/assets/colab-badge.svg\" alt=\"Open In Colab\"/></a>"
      ]
    },
    {
      "cell_type": "markdown",
      "metadata": {
        "id": "S0pG7CHp5G96"
      },
      "source": [
        "# 20210331 'a' 와 'e' sound 비교 분석\n",
        "\n",
        "## a\n",
        "duration: 0.778951 sec\n",
        "pitch: 114 Hz\n",
        "intensify: 64.4 dB\n",
        "formant: first 798 Hz, second 1277 Hz\n",
        "\n",
        "## e\n",
        "duration: 0.788450 sec\n",
        "pitch: 115.4 Hz\n",
        "intensify: 66.24 dB\n",
        "formant: first 606.8 Hz, second 2010 Hz"
      ]
    }
  ]
}