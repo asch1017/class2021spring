{
  "nbformat": 4,
  "nbformat_minor": 0,
  "metadata": {
    "colab": {
      "name": "programming.ipynb",
      "provenance": [],
      "authorship_tag": "ABX9TyNJmZ0vVUviOJtaCe4HRzEh",
      "include_colab_link": true
    },
    "kernelspec": {
      "name": "python3",
      "display_name": "Python 3"
    }
  },
  "cells": [
    {
      "cell_type": "markdown",
      "metadata": {
        "id": "view-in-github",
        "colab_type": "text"
      },
      "source": [
        "<a href=\"https://colab.research.google.com/github/asch1017/class2021spring/blob/main/programming.ipynb\" target=\"_parent\"><img src=\"https://colab.research.google.com/assets/colab-badge.svg\" alt=\"Open In Colab\"/></a>"
      ]
    },
    {
      "cell_type": "markdown",
      "metadata": {
        "id": "1oUOUuRdpEeh"
      },
      "source": [
        "## Programming Language\r\n",
        "\r\n",
        "# 변수, 제어문, 함수\r\n",
        "\r\n",
        "우리 인간의 언어와 비슷하다 \r\n",
        "\r\n",
        "사람의 언어는 단어 + 문법\r\n",
        "프로그래밍 언어 역시 단어(변수) + 문법(제어문)\r\n",
        "\r\n",
        "# 변수\r\n",
        "\r\n",
        "사과라는 것에는 단어도 있지만 거기에 담겨있는 내용도 있음 사과 = 사과 그림 / a = 1  \r\n",
        "\r\n",
        "사과, a같은 것을 사람은 단어라고 하지만 프로그램에서는 variable이라고 함 \r\n",
        "\r\n",
        "= : 는 오른쪽 내용을 왼쪽에 assign\r\n",
        "\r\n",
        "\r\n",
        "여기까지 단어에 대한 설명\r\n",
        "\r\n",
        "\r\n",
        "# 제어문\r\n",
        "\r\n",
        "프로그램에서 문법은 제어문\r\n",
        "1. 반복: for\r\n",
        "2. 조건: if\r\n",
        "\r\n",
        "a = 1\r\n",
        "if a == 2 (==는 진짜 같다는 뜻)\r\n",
        "print(3)\r\n",
        "\r\n",
        "\r\n",
        "# 함수\r\n",
        "\r\n",
        "3번째는 함수(입출력 관계)\r\n",
        "\r\n",
        "y(출력) = f(x) (입력)\r\n",
        "\r\n",
        "\r\n"
      ]
    }
  ]
}